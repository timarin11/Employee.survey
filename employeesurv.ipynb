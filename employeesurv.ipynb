{
 "cells": [
  {
   "cell_type": "markdown",
   "metadata": {},
   "source": [
    "# Exploring dissatisfaction as cause of employee resignation  "
   ]
  },
  {
   "cell_type": "markdown",
   "metadata": {},
   "source": [
    "# Objectives\n",
    "\n",
    "We'll analyze existing data about employees from public and private institutions of education in Queensland, Australia.\n",
    "\n",
    "We are interested in finding out the following questions:\n",
    "\n",
    "- Are employees who only worked for the institutes for a short period of time resigning due to some kind of dissatisfaction? \n",
    "- What about employees who have been there longer?\n",
    "- Are younger employees resigning due to some kind of dissatisfaction? What about older employees?\n",
    "\n"
   ]
  },
  {
   "cell_type": "markdown",
   "metadata": {},
   "source": [
    "## Summary of results\n",
    "\n"
   ]
  },
  {
   "cell_type": "markdown",
   "metadata": {},
   "source": [
    "# Exploring the dataset\n",
    "\n",
    "We'll work with exit surveys from employees of the Department of Education, Training and Employment (DETE) and the Technical and Further Education (TAFE) institute in Queensland, Australia. \n",
    "\n",
    "- (DETE: https://en.wikipedia.org/wiki/Department_of_Education_(Queensland)) \n",
    "(TAFE: https://data.gov.au/dataset/ds-qld-fe96ff30-d157-4a81-851d-215f2a0fe26d/details?q=exit%20survey)\n",
    "\n",
    "The original TAFE exit survey data is no longer available* \n",
    "\n",
    "Dataquest has made some slight modifications to the original datasets to make them easier to work with, including changing the encoding to UTF-8 (the original ones are encoded using cp1252.)"
   ]
  },
  {
   "cell_type": "markdown",
   "metadata": {},
   "source": [
    "\n",
    "\n",
    "We will first explore the dataset to see if it contains the data we need. To answer the questions of this project we need to focus on employees that resigned to their jobs and search for meaningful data that can show us the following:\n",
    "\n",
    "Length of the time spent working:\n",
    "- Short period employees\n",
    "- Long period employees\n",
    "\n",
    "Age of employees\n",
    "- Young employees\n",
    "- Old employees\n",
    "\n",
    "Dissatisfaction with the job\n",
    "- Reason of termination\n",
    "\n"
   ]
  },
  {
   "cell_type": "code",
   "execution_count": 1,
   "metadata": {},
   "outputs": [],
   "source": [
    "#Read into the data provided by Dataquest\n",
    "import pandas as pd\n",
    "import numpy as np\n",
    "%matplotlib inline\n",
    "\n",
    "dete_survey = pd.read_csv('dete_survey.csv')\n",
    "tafe_survey = pd.read_csv('tafe_survey.csv')"
   ]
  },
  {
   "cell_type": "markdown",
   "metadata": {},
   "source": [
    "## Exploring data from dete_survey.csv"
   ]
  },
  {
   "cell_type": "code",
   "execution_count": 2,
   "metadata": {
    "scrolled": true
   },
   "outputs": [
    {
     "name": "stdout",
     "output_type": "stream",
     "text": [
      "<bound method DataFrame.info of       ID                        SeparationType Cease Date DETE Start Date  \\\n",
      "0      1                 Ill Health Retirement    08/2012            1984   \n",
      "1      2      Voluntary Early Retirement (VER)    08/2012      Not Stated   \n",
      "2      3      Voluntary Early Retirement (VER)    05/2012            2011   \n",
      "3      4             Resignation-Other reasons    05/2012            2005   \n",
      "4      5                        Age Retirement    05/2012            1970   \n",
      "..   ...                                   ...        ...             ...   \n",
      "817  819                        Age Retirement    02/2014            1977   \n",
      "818  820                        Age Retirement    01/2014            1980   \n",
      "819  821  Resignation-Move overseas/interstate    01/2014            2009   \n",
      "820  822                 Ill Health Retirement    12/2013            2001   \n",
      "821  823  Resignation-Move overseas/interstate    12/2013      Not Stated   \n",
      "\n",
      "    Role Start Date                                      Position  \\\n",
      "0              2004                                Public Servant   \n",
      "1        Not Stated                                Public Servant   \n",
      "2              2011                               Schools Officer   \n",
      "3              2006                                       Teacher   \n",
      "4              1989  Head of Curriculum/Head of Special Education   \n",
      "..              ...                                           ...   \n",
      "817            1999                                       Teacher   \n",
      "818            1980                                       Teacher   \n",
      "819            2009                                Public Servant   \n",
      "820            2009                                       Teacher   \n",
      "821      Not Stated                                  Teacher Aide   \n",
      "\n",
      "    Classification                    Region  \\\n",
      "0          A01-A04            Central Office   \n",
      "1          AO5-AO7            Central Office   \n",
      "2              NaN            Central Office   \n",
      "3          Primary        Central Queensland   \n",
      "4              NaN                South East   \n",
      "..             ...                       ...   \n",
      "817        Primary        Central Queensland   \n",
      "818      Secondary               North Coast   \n",
      "819        A01-A04            Central Office   \n",
      "820      Secondary  Darling Downs South West   \n",
      "821            NaN              Metropolitan   \n",
      "\n",
      "                         Business Unit    Employment Status  ...  \\\n",
      "0    Corporate Strategy and Peformance  Permanent Full-time  ...   \n",
      "1    Corporate Strategy and Peformance  Permanent Full-time  ...   \n",
      "2                 Education Queensland  Permanent Full-time  ...   \n",
      "3                                  NaN  Permanent Full-time  ...   \n",
      "4                                  NaN  Permanent Full-time  ...   \n",
      "..                                 ...                  ...  ...   \n",
      "817                                NaN  Permanent Part-time  ...   \n",
      "818                                NaN  Permanent Full-time  ...   \n",
      "819               Education Queensland  Permanent Full-time  ...   \n",
      "820                                NaN  Permanent Full-time  ...   \n",
      "821                                NaN                  NaN  ...   \n",
      "\n",
      "     Kept informed  Wellness programs  Health & Safety  Gender          Age  \\\n",
      "0                N                  N                N    Male        56-60   \n",
      "1                N                  N                N    Male        56-60   \n",
      "2                N                  N                N    Male  61 or older   \n",
      "3                A                  N                A  Female        36-40   \n",
      "4                N                  A                M  Female  61 or older   \n",
      "..             ...                ...              ...     ...          ...   \n",
      "817              A                  A               SA  Female        56-60   \n",
      "818              N                  N                N    Male        51-55   \n",
      "819              A                  N                A  Female        31-35   \n",
      "820              A                  N                A  Female        41-45   \n",
      "821            NaN                NaN              NaN     NaN          NaN   \n",
      "\n",
      "     Aboriginal  Torres Strait  South Sea  Disability  NESB  \n",
      "0           NaN            NaN        NaN         NaN   Yes  \n",
      "1           NaN            NaN        NaN         NaN   NaN  \n",
      "2           NaN            NaN        NaN         NaN   NaN  \n",
      "3           NaN            NaN        NaN         NaN   NaN  \n",
      "4           NaN            NaN        NaN         NaN   NaN  \n",
      "..          ...            ...        ...         ...   ...  \n",
      "817         NaN            NaN        NaN         NaN   NaN  \n",
      "818         NaN            NaN        NaN         NaN   NaN  \n",
      "819         NaN            NaN        NaN         NaN   NaN  \n",
      "820         NaN            NaN        NaN         NaN   NaN  \n",
      "821         NaN            NaN        NaN         NaN   NaN  \n",
      "\n",
      "[822 rows x 56 columns]>\n",
      "Index(['ID', 'SeparationType', 'Cease Date', 'DETE Start Date',\n",
      "       'Role Start Date', 'Position', 'Classification', 'Region',\n",
      "       'Business Unit', 'Employment Status', 'Career move to public sector',\n",
      "       'Career move to private sector', 'Interpersonal conflicts',\n",
      "       'Job dissatisfaction', 'Dissatisfaction with the department',\n",
      "       'Physical work environment', 'Lack of recognition',\n",
      "       'Lack of job security', 'Work location', 'Employment conditions',\n",
      "       'Maternity/family', 'Relocation', 'Study/Travel', 'Ill Health',\n",
      "       'Traumatic incident', 'Work life balance', 'Workload',\n",
      "       'None of the above', 'Professional Development',\n",
      "       'Opportunities for promotion', 'Staff morale', 'Workplace issue',\n",
      "       'Physical environment', 'Worklife balance',\n",
      "       'Stress and pressure support', 'Performance of supervisor',\n",
      "       'Peer support', 'Initiative', 'Skills', 'Coach', 'Career Aspirations',\n",
      "       'Feedback', 'Further PD', 'Communication', 'My say', 'Information',\n",
      "       'Kept informed', 'Wellness programs', 'Health & Safety', 'Gender',\n",
      "       'Age', 'Aboriginal', 'Torres Strait', 'South Sea', 'Disability',\n",
      "       'NESB'],\n",
      "      dtype='object')\n"
     ]
    }
   ],
   "source": [
    "# Quick exploration of the data\n",
    "print(dete_survey.info)\n",
    "print(dete_survey.columns)"
   ]
  },
  {
   "cell_type": "markdown",
   "metadata": {},
   "source": [
    "### Selected columns for DETE survey\n",
    "\n",
    "These are some of the columns that we could use from dete_survey:\n",
    "\n",
    "- ID: An id used to identify the participant of the survey\n",
    "- SeparationType: The reason why the person's employment ended\n",
    "- Cease Date: The year or month the person's employment ended\n",
    "- DETE Start Date: The year the person began employment with the DETE"
   ]
  },
  {
   "cell_type": "code",
   "execution_count": 3,
   "metadata": {
    "scrolled": true
   },
   "outputs": [
    {
     "name": "stdout",
     "output_type": "stream",
     "text": [
      "   ID                    SeparationType Cease Date DETE Start Date\n",
      "0   1             Ill Health Retirement    08/2012            1984\n",
      "1   2  Voluntary Early Retirement (VER)    08/2012      Not Stated\n",
      "2   3  Voluntary Early Retirement (VER)    05/2012            2011\n",
      "3   4         Resignation-Other reasons    05/2012            2005\n",
      "4   5                    Age Retirement    05/2012            1970\n"
     ]
    }
   ],
   "source": [
    "# Sample of the selected columns in the DETE survey\n",
    "print(dete_survey[['ID',\n",
    "                   'SeparationType',\n",
    "                   'Cease Date', \n",
    "                   'DETE Start Date']].head(5))"
   ]
  },
  {
   "cell_type": "markdown",
   "metadata": {},
   "source": []
  },
  {
   "cell_type": "code",
   "execution_count": 4,
   "metadata": {
    "scrolled": false
   },
   "outputs": [
    {
     "data": {
      "text/plain": [
       "Age Retirement                          34.671533\n",
       "Resignation-Other reasons               18.248175\n",
       "Resignation-Other employer              11.070560\n",
       "Resignation-Move overseas/interstate     8.515815\n",
       "Voluntary Early Retirement (VER)         8.150852\n",
       "Ill Health Retirement                    7.420925\n",
       "Other                                    5.961071\n",
       "Contract Expired                         4.136253\n",
       "Termination                              1.824818\n",
       "Name: SeparationType, dtype: float64"
      ]
     },
     "execution_count": 4,
     "metadata": {},
     "output_type": "execute_result"
    }
   ],
   "source": [
    "# Reasons of termination\n",
    "dete_survey['SeparationType'].value_counts(normalize=True, sort=True)*100"
   ]
  },
  {
   "cell_type": "markdown",
   "metadata": {},
   "source": [
    "The most common reason for termination is age retirement, followed by resignation. There are 3 values that indicate employee resignation, which represent a high % of job termination (37,7%). "
   ]
  },
  {
   "cell_type": "code",
   "execution_count": 5,
   "metadata": {},
   "outputs": [
    {
     "data": {
      "text/plain": [
       "Not Stated    73\n",
       "2011          40\n",
       "2007          34\n",
       "2008          31\n",
       "2010          27\n",
       "2012          27\n",
       "2009          24\n",
       "2006          23\n",
       "2013          21\n",
       "1970          21\n",
       "1975          21\n",
       "2005          20\n",
       "1990          20\n",
       "1999          19\n",
       "1996          19\n",
       "2004          18\n",
       "1992          18\n",
       "2000          18\n",
       "1991          18\n",
       "1989          17\n",
       "1976          15\n",
       "1978          15\n",
       "2003          15\n",
       "2002          15\n",
       "1988          15\n",
       "1995          14\n",
       "1998          14\n",
       "1997          14\n",
       "1974          14\n",
       "1980          14\n",
       "1979          14\n",
       "1993          13\n",
       "1986          12\n",
       "1972          12\n",
       "1977          11\n",
       "1994          10\n",
       "1969          10\n",
       "1984          10\n",
       "1971          10\n",
       "2001          10\n",
       "1981           9\n",
       "1983           9\n",
       "1985           8\n",
       "1973           8\n",
       "1987           7\n",
       "1982           4\n",
       "1963           4\n",
       "1968           3\n",
       "1967           2\n",
       "1965           1\n",
       "1966           1\n",
       "Name: DETE Start Date, dtype: int64"
      ]
     },
     "execution_count": 5,
     "metadata": {},
     "output_type": "execute_result"
    }
   ],
   "source": [
    "dete_survey['DETE Start Date'].value_counts()\n"
   ]
  },
  {
   "cell_type": "code",
   "execution_count": 6,
   "metadata": {
    "scrolled": true
   },
   "outputs": [
    {
     "data": {
      "text/plain": [
       "ID                 0\n",
       "SeparationType     0\n",
       "Cease Date         0\n",
       "DETE Start Date    0\n",
       "dtype: int64"
      ]
     },
     "execution_count": 6,
     "metadata": {},
     "output_type": "execute_result"
    }
   ],
   "source": [
    "dete_survey[['ID',\n",
    "             'SeparationType',\n",
    "             'Cease Date', \n",
    "             'DETE Start Date'\n",
    "            ]].isnull().sum()"
   ]
  },
  {
   "cell_type": "markdown",
   "metadata": {},
   "source": [
    "### Observations from DETE survey\n",
    "Many of the employees in this survey resigned from their jobs (37,7%)\n",
    "The values from SeparationType column that we are interested in are the ones that indicate resignation. \n",
    "To obtain a period of time working from each employee, we will need to calculate a value from 'Cease Date' and 'DETE Start Date'\n",
    "Start date are years as strings because it has other values, like 'Not stated' which should be NaN\n"
   ]
  },
  {
   "cell_type": "markdown",
   "metadata": {},
   "source": [
    "## Exploring data from tafe_survey.csv"
   ]
  },
  {
   "cell_type": "code",
   "execution_count": 7,
   "metadata": {},
   "outputs": [
    {
     "name": "stdout",
     "output_type": "stream",
     "text": [
      "Index(['Record ID', 'Institute', 'WorkArea', 'CESSATION YEAR',\n",
      "       'Reason for ceasing employment',\n",
      "       'Contributing Factors. Career Move - Public Sector ',\n",
      "       'Contributing Factors. Career Move - Private Sector ',\n",
      "       'Contributing Factors. Career Move - Self-employment',\n",
      "       'Contributing Factors. Ill Health',\n",
      "       'Contributing Factors. Maternity/Family',\n",
      "       'Contributing Factors. Dissatisfaction',\n",
      "       'Contributing Factors. Job Dissatisfaction',\n",
      "       'Contributing Factors. Interpersonal Conflict',\n",
      "       'Contributing Factors. Study', 'Contributing Factors. Travel',\n",
      "       'Contributing Factors. Other', 'Contributing Factors. NONE',\n",
      "       'Main Factor. Which of these was the main factor for leaving?',\n",
      "       'InstituteViews. Topic:1. I feel the senior leadership had a clear vision and direction',\n",
      "       'InstituteViews. Topic:2. I was given access to skills training to help me do my job better',\n",
      "       'InstituteViews. Topic:3. I was given adequate opportunities for personal development',\n",
      "       'InstituteViews. Topic:4. I was given adequate opportunities for promotion within %Institute]Q25LBL%',\n",
      "       'InstituteViews. Topic:5. I felt the salary for the job was right for the responsibilities I had',\n",
      "       'InstituteViews. Topic:6. The organisation recognised when staff did good work',\n",
      "       'InstituteViews. Topic:7. Management was generally supportive of me',\n",
      "       'InstituteViews. Topic:8. Management was generally supportive of my team',\n",
      "       'InstituteViews. Topic:9. I was kept informed of the changes in the organisation which would affect me',\n",
      "       'InstituteViews. Topic:10. Staff morale was positive within the Institute',\n",
      "       'InstituteViews. Topic:11. If I had a workplace issue it was dealt with quickly',\n",
      "       'InstituteViews. Topic:12. If I had a workplace issue it was dealt with efficiently',\n",
      "       'InstituteViews. Topic:13. If I had a workplace issue it was dealt with discreetly',\n",
      "       'WorkUnitViews. Topic:14. I was satisfied with the quality of the management and supervision within my work unit',\n",
      "       'WorkUnitViews. Topic:15. I worked well with my colleagues',\n",
      "       'WorkUnitViews. Topic:16. My job was challenging and interesting',\n",
      "       'WorkUnitViews. Topic:17. I was encouraged to use my initiative in the course of my work',\n",
      "       'WorkUnitViews. Topic:18. I had sufficient contact with other people in my job',\n",
      "       'WorkUnitViews. Topic:19. I was given adequate support and co-operation by my peers to enable me to do my job',\n",
      "       'WorkUnitViews. Topic:20. I was able to use the full range of my skills in my job',\n",
      "       'WorkUnitViews. Topic:21. I was able to use the full range of my abilities in my job. ; Category:Level of Agreement; Question:YOUR VIEWS ABOUT YOUR WORK UNIT]',\n",
      "       'WorkUnitViews. Topic:22. I was able to use the full range of my knowledge in my job',\n",
      "       'WorkUnitViews. Topic:23. My job provided sufficient variety',\n",
      "       'WorkUnitViews. Topic:24. I was able to cope with the level of stress and pressure in my job',\n",
      "       'WorkUnitViews. Topic:25. My job allowed me to balance the demands of work and family to my satisfaction',\n",
      "       'WorkUnitViews. Topic:26. My supervisor gave me adequate personal recognition and feedback on my performance',\n",
      "       'WorkUnitViews. Topic:27. My working environment was satisfactory e.g. sufficient space, good lighting, suitable seating and working area',\n",
      "       'WorkUnitViews. Topic:28. I was given the opportunity to mentor and coach others in order for me to pass on my skills and knowledge prior to my cessation date',\n",
      "       'WorkUnitViews. Topic:29. There was adequate communication between staff in my unit',\n",
      "       'WorkUnitViews. Topic:30. Staff morale was positive within my work unit',\n",
      "       'Induction. Did you undertake Workplace Induction?',\n",
      "       'InductionInfo. Topic:Did you undertake a Corporate Induction?',\n",
      "       'InductionInfo. Topic:Did you undertake a Institute Induction?',\n",
      "       'InductionInfo. Topic: Did you undertake Team Induction?',\n",
      "       'InductionInfo. Face to Face Topic:Did you undertake a Corporate Induction; Category:How it was conducted?',\n",
      "       'InductionInfo. On-line Topic:Did you undertake a Corporate Induction; Category:How it was conducted?',\n",
      "       'InductionInfo. Induction Manual Topic:Did you undertake a Corporate Induction?',\n",
      "       'InductionInfo. Face to Face Topic:Did you undertake a Institute Induction?',\n",
      "       'InductionInfo. On-line Topic:Did you undertake a Institute Induction?',\n",
      "       'InductionInfo. Induction Manual Topic:Did you undertake a Institute Induction?',\n",
      "       'InductionInfo. Face to Face Topic: Did you undertake Team Induction; Category?',\n",
      "       'InductionInfo. On-line Topic: Did you undertake Team Induction?process you undertook and how it was conducted.]',\n",
      "       'InductionInfo. Induction Manual Topic: Did you undertake Team Induction?',\n",
      "       'Workplace. Topic:Did you and your Manager develop a Performance and Professional Development Plan (PPDP)?',\n",
      "       'Workplace. Topic:Does your workplace promote a work culture free from all forms of unlawful discrimination?',\n",
      "       'Workplace. Topic:Does your workplace promote and practice the principles of employment equity?',\n",
      "       'Workplace. Topic:Does your workplace value the diversity of its employees?',\n",
      "       'Workplace. Topic:Would you recommend the Institute as an employer to others?',\n",
      "       'Gender. What is your Gender?', 'CurrentAge. Current Age',\n",
      "       'Employment Type. Employment Type', 'Classification. Classification',\n",
      "       'LengthofServiceOverall. Overall Length of Service at Institute (in years)',\n",
      "       'LengthofServiceCurrent. Length of Service at current workplace (in years)'],\n",
      "      dtype='object')\n",
      "<bound method DataFrame.info of         Record ID                              Institute  \\\n",
      "0    6.341330e+17  Southern Queensland Institute of TAFE   \n",
      "1    6.341337e+17            Mount Isa Institute of TAFE   \n",
      "2    6.341388e+17            Mount Isa Institute of TAFE   \n",
      "3    6.341399e+17            Mount Isa Institute of TAFE   \n",
      "4    6.341466e+17  Southern Queensland Institute of TAFE   \n",
      "..            ...                                    ...   \n",
      "697  6.350668e+17         Barrier Reef Institute of TAFE   \n",
      "698  6.350677e+17  Southern Queensland Institute of TAFE   \n",
      "699  6.350704e+17       Tropical North Institute of TAFE   \n",
      "700  6.350712e+17      Southbank Institute of Technology   \n",
      "701  6.350730e+17       Tropical North Institute of TAFE   \n",
      "\n",
      "                     WorkArea  CESSATION YEAR Reason for ceasing employment  \\\n",
      "0    Non-Delivery (corporate)          2010.0              Contract Expired   \n",
      "1    Non-Delivery (corporate)          2010.0                    Retirement   \n",
      "2         Delivery (teaching)          2010.0                    Retirement   \n",
      "3    Non-Delivery (corporate)          2010.0                   Resignation   \n",
      "4         Delivery (teaching)          2010.0                   Resignation   \n",
      "..                        ...             ...                           ...   \n",
      "697       Delivery (teaching)          2013.0                   Resignation   \n",
      "698  Non-Delivery (corporate)          2013.0                   Resignation   \n",
      "699       Delivery (teaching)          2013.0                   Resignation   \n",
      "700  Non-Delivery (corporate)          2013.0              Contract Expired   \n",
      "701  Non-Delivery (corporate)          2013.0                   Resignation   \n",
      "\n",
      "    Contributing Factors. Career Move - Public Sector   \\\n",
      "0                                                  NaN   \n",
      "1                                                    -   \n",
      "2                                                    -   \n",
      "3                                                    -   \n",
      "4                                                    -   \n",
      "..                                                 ...   \n",
      "697                        Career Move - Public Sector   \n",
      "698                        Career Move - Public Sector   \n",
      "699                                                  -   \n",
      "700                                                NaN   \n",
      "701                                                  -   \n",
      "\n",
      "    Contributing Factors. Career Move - Private Sector   \\\n",
      "0                                                  NaN    \n",
      "1                                                    -    \n",
      "2                                                    -    \n",
      "3                                                    -    \n",
      "4                         Career Move - Private Sector    \n",
      "..                                                 ...    \n",
      "697                                                  -    \n",
      "698                                                  -    \n",
      "699                                                  -    \n",
      "700                                                NaN    \n",
      "701                                                  -    \n",
      "\n",
      "    Contributing Factors. Career Move - Self-employment  \\\n",
      "0                                                  NaN    \n",
      "1                                                    -    \n",
      "2                                                    -    \n",
      "3                                                    -    \n",
      "4                                                    -    \n",
      "..                                                 ...    \n",
      "697                                                  -    \n",
      "698                                                  -    \n",
      "699                                                  -    \n",
      "700                                                NaN    \n",
      "701                      Career Move - Self-employment    \n",
      "\n",
      "    Contributing Factors. Ill Health Contributing Factors. Maternity/Family  \\\n",
      "0                                NaN                                    NaN   \n",
      "1                                  -                                      -   \n",
      "2                                  -                                      -   \n",
      "3                                  -                                      -   \n",
      "4                                  -                                      -   \n",
      "..                               ...                                    ...   \n",
      "697                                -                                      -   \n",
      "698                                -                                      -   \n",
      "699                                -                                      -   \n",
      "700                              NaN                                    NaN   \n",
      "701                                -                                      -   \n",
      "\n",
      "     ...  \\\n",
      "0    ...   \n",
      "1    ...   \n",
      "2    ...   \n",
      "3    ...   \n",
      "4    ...   \n",
      "..   ...   \n",
      "697  ...   \n",
      "698  ...   \n",
      "699  ...   \n",
      "700  ...   \n",
      "701  ...   \n",
      "\n",
      "    Workplace. Topic:Does your workplace promote a work culture free from all forms of unlawful discrimination?  \\\n",
      "0                                                  Yes                                                            \n",
      "1                                                  Yes                                                            \n",
      "2                                                  Yes                                                            \n",
      "3                                                  Yes                                                            \n",
      "4                                                  Yes                                                            \n",
      "..                                                 ...                                                            \n",
      "697                                                Yes                                                            \n",
      "698                                                NaN                                                            \n",
      "699                                                Yes                                                            \n",
      "700                                                 No                                                            \n",
      "701                                                Yes                                                            \n",
      "\n",
      "    Workplace. Topic:Does your workplace promote and practice the principles of employment equity?  \\\n",
      "0                                                  Yes                                               \n",
      "1                                                  Yes                                               \n",
      "2                                                  Yes                                               \n",
      "3                                                  Yes                                               \n",
      "4                                                  Yes                                               \n",
      "..                                                 ...                                               \n",
      "697                                                Yes                                               \n",
      "698                                                NaN                                               \n",
      "699                                                Yes                                               \n",
      "700                                                 No                                               \n",
      "701                                                Yes                                               \n",
      "\n",
      "    Workplace. Topic:Does your workplace value the diversity of its employees?  \\\n",
      "0                                                  Yes                           \n",
      "1                                                  Yes                           \n",
      "2                                                  Yes                           \n",
      "3                                                  Yes                           \n",
      "4                                                  Yes                           \n",
      "..                                                 ...                           \n",
      "697                                                Yes                           \n",
      "698                                                NaN                           \n",
      "699                                                Yes                           \n",
      "700                                                Yes                           \n",
      "701                                                Yes                           \n",
      "\n",
      "    Workplace. Topic:Would you recommend the Institute as an employer to others?  \\\n",
      "0                                                  Yes                             \n",
      "1                                                  Yes                             \n",
      "2                                                  Yes                             \n",
      "3                                                  Yes                             \n",
      "4                                                  Yes                             \n",
      "..                                                 ...                             \n",
      "697                                                Yes                             \n",
      "698                                                NaN                             \n",
      "699                                                Yes                             \n",
      "700                                                 No                             \n",
      "701                                                Yes                             \n",
      "\n",
      "    Gender. What is your Gender? CurrentAge. Current Age  \\\n",
      "0                         Female                  26  30   \n",
      "1                            NaN                     NaN   \n",
      "2                            NaN                     NaN   \n",
      "3                            NaN                     NaN   \n",
      "4                           Male                  41  45   \n",
      "..                           ...                     ...   \n",
      "697                         Male                   51-55   \n",
      "698                          NaN                     NaN   \n",
      "699                       Female                   51-55   \n",
      "700                       Female                  41  45   \n",
      "701                       Female                  26  30   \n",
      "\n",
      "    Employment Type. Employment Type Classification. Classification  \\\n",
      "0                Temporary Full-time            Administration (AO)   \n",
      "1                                NaN                            NaN   \n",
      "2                                NaN                            NaN   \n",
      "3                                NaN                            NaN   \n",
      "4                Permanent Full-time        Teacher (including LVT)   \n",
      "..                               ...                            ...   \n",
      "697              Temporary Full-time        Teacher (including LVT)   \n",
      "698                              NaN                            NaN   \n",
      "699              Permanent Full-time        Teacher (including LVT)   \n",
      "700              Temporary Full-time      Professional Officer (PO)   \n",
      "701                  Contract/casual            Administration (AO)   \n",
      "\n",
      "    LengthofServiceOverall. Overall Length of Service at Institute (in years)  \\\n",
      "0                                                  1-2                          \n",
      "1                                                  NaN                          \n",
      "2                                                  NaN                          \n",
      "3                                                  NaN                          \n",
      "4                                                  3-4                          \n",
      "..                                                 ...                          \n",
      "697                                                1-2                          \n",
      "698                                                NaN                          \n",
      "699                                                5-6                          \n",
      "700                                                1-2                          \n",
      "701                                                3-4                          \n",
      "\n",
      "    LengthofServiceCurrent. Length of Service at current workplace (in years)  \n",
      "0                                                  1-2                         \n",
      "1                                                  NaN                         \n",
      "2                                                  NaN                         \n",
      "3                                                  NaN                         \n",
      "4                                                  3-4                         \n",
      "..                                                 ...                         \n",
      "697                                                1-2                         \n",
      "698                                                NaN                         \n",
      "699                                                1-2                         \n",
      "700                                                1-2                         \n",
      "701                                                1-2                         \n",
      "\n",
      "[702 rows x 72 columns]>\n"
     ]
    }
   ],
   "source": [
    "# Quick exploration of the data\n",
    "print(tafe_survey.columns)\n",
    "print(tafe_survey.info)"
   ]
  },
  {
   "cell_type": "markdown",
   "metadata": {},
   "source": [
    "## Selected columns for TAFE survey\n",
    "\n",
    "These are some of the columns that we could use from dete_survey:\n",
    "\n",
    "- Record ID: An id used to identify the participant of the survey\n",
    "- Reason for ceasing employment: The reason why the person's employment ended\n",
    "- LengthofServiceOverall. Overall Length of Service at Institute (in years):The length of the person's employment (in years)"
   ]
  },
  {
   "cell_type": "code",
   "execution_count": 8,
   "metadata": {
    "scrolled": true
   },
   "outputs": [
    {
     "name": "stdout",
     "output_type": "stream",
     "text": [
      "        Record ID Reason for ceasing employment  \\\n",
      "0    6.341330e+17              Contract Expired   \n",
      "1    6.341337e+17                    Retirement   \n",
      "2    6.341388e+17                    Retirement   \n",
      "3    6.341399e+17                   Resignation   \n",
      "4    6.341466e+17                   Resignation   \n",
      "..            ...                           ...   \n",
      "697  6.350668e+17                   Resignation   \n",
      "698  6.350677e+17                   Resignation   \n",
      "699  6.350704e+17                   Resignation   \n",
      "700  6.350712e+17              Contract Expired   \n",
      "701  6.350730e+17                   Resignation   \n",
      "\n",
      "    LengthofServiceOverall. Overall Length of Service at Institute (in years)  \n",
      "0                                                  1-2                         \n",
      "1                                                  NaN                         \n",
      "2                                                  NaN                         \n",
      "3                                                  NaN                         \n",
      "4                                                  3-4                         \n",
      "..                                                 ...                         \n",
      "697                                                1-2                         \n",
      "698                                                NaN                         \n",
      "699                                                5-6                         \n",
      "700                                                1-2                         \n",
      "701                                                3-4                         \n",
      "\n",
      "[702 rows x 3 columns]\n"
     ]
    }
   ],
   "source": [
    "# Sample for columns selected\n",
    "print(tafe_survey[['Record ID', \n",
    "                   'Reason for ceasing employment', \n",
    "                   'LengthofServiceOverall. Overall Length of Service at Institute (in years)'\n",
    "                  ]]) "
   ]
  },
  {
   "cell_type": "code",
   "execution_count": 9,
   "metadata": {
    "scrolled": true
   },
   "outputs": [
    {
     "data": {
      "text/plain": [
       "Resignation                 48.502140\n",
       "Contract Expired            18.116976\n",
       "Retrenchment/ Redundancy    14.835949\n",
       "Retirement                  11.697575\n",
       "Transfer                     3.566334\n",
       "Termination                  3.281027\n",
       "Name: Reason for ceasing employment, dtype: float64"
      ]
     },
     "execution_count": 9,
     "metadata": {},
     "output_type": "execute_result"
    }
   ],
   "source": [
    "# Value counts of  Reason for ceasing employment\n",
    "tafe_survey['Reason for ceasing employment'].value_counts(normalize=True)*100"
   ]
  },
  {
   "cell_type": "markdown",
   "metadata": {},
   "source": [
    "The most common reason for termination is Resignation, which represents a high % of job termination (48,5%)."
   ]
  },
  {
   "cell_type": "code",
   "execution_count": 10,
   "metadata": {},
   "outputs": [
    {
     "data": {
      "text/plain": [
       "Record ID                                                                      0\n",
       "Reason for ceasing employment                                                  1\n",
       "LengthofServiceOverall. Overall Length of Service at Institute (in years)    106\n",
       "dtype: int64"
      ]
     },
     "execution_count": 10,
     "metadata": {},
     "output_type": "execute_result"
    }
   ],
   "source": [
    "# Null values in selected columns\n",
    "tafe_survey[['Record ID', \n",
    "             'Reason for ceasing employment', \n",
    "             'LengthofServiceOverall. Overall Length of Service at Institute (in years)'\n",
    "            ]].isnull().sum()"
   ]
  },
  {
   "cell_type": "code",
   "execution_count": 11,
   "metadata": {
    "scrolled": true
   },
   "outputs": [
    {
     "data": {
      "text/plain": [
       "Less than 1 year      147\n",
       "1-2                   102\n",
       "3-4                    96\n",
       "11-20                  89\n",
       "More than 20 years     71\n",
       "5-6                    48\n",
       "7-10                   43\n",
       "Name: LengthofServiceOverall. Overall Length of Service at Institute (in years), dtype: int64"
      ]
     },
     "execution_count": 11,
     "metadata": {},
     "output_type": "execute_result"
    }
   ],
   "source": [
    "# Value counts of  length of service\n",
    "tafe_survey['LengthofServiceOverall. Overall Length of Service at Institute (in years)'].value_counts()"
   ]
  },
  {
   "cell_type": "markdown",
   "metadata": {},
   "source": [
    "The values form this column shows periods of time as categories that will need sorting. "
   ]
  },
  {
   "cell_type": "markdown",
   "metadata": {},
   "source": [
    "## Observations\n",
    "\n",
    "TAFE 'lenght of service' is represented by periods of time that can be compared to the combination of begin and start date from DETE survey. \n",
    "\n",
    "We have a few missing values that we need to adress"
   ]
  },
  {
   "cell_type": "markdown",
   "metadata": {},
   "source": [
    "# Cleaning datasets\n",
    "\n",
    "To answer the questions for this project, we have been asked to combine the results for both surveys . However, although both used the same survey template, one of them customized some of the answers (DETE), so we'll use that one as our reference template for cleaning both datasets. \n",
    "\n",
    "For this, we need to clean both datasets separatedly for combining them later based on our observations:\n",
    "\n",
    "1. Change 'Not Stated' to NaN values in DETE survey\n",
    "2. Drop unneccessary columns in both surveys\n",
    "3. Change columns names in DETE (main columns) and TAFE surveys\n",
    "\n",
    "\n",
    "\n"
   ]
  },
  {
   "cell_type": "code",
   "execution_count": 12,
   "metadata": {},
   "outputs": [],
   "source": [
    "# Read the dete_survey again to include 'Not stated' as NaN\n",
    "dete_survey = pd.read_csv('dete_survey.csv', na_values=['Not Stated'])\n"
   ]
  },
  {
   "cell_type": "code",
   "execution_count": 13,
   "metadata": {},
   "outputs": [],
   "source": [
    "# Drop unneccessary columns in DETE survey\n",
    "dete_survey_updated = dete_survey.drop(dete_survey.columns[28:49], axis=1)"
   ]
  },
  {
   "cell_type": "code",
   "execution_count": 14,
   "metadata": {},
   "outputs": [],
   "source": [
    "# Drop unneccessary columns in TAFE survey\n",
    "tafe_survey_updated = tafe_survey.drop(tafe_survey.columns[17:66], axis=1)\n"
   ]
  },
  {
   "cell_type": "code",
   "execution_count": 15,
   "metadata": {},
   "outputs": [],
   "source": [
    "#Clean column names in DETE survey \n",
    "dete_survey_updated.columns = dete_survey_updated.columns.str.lower().str.strip().str.replace(' ', '_')\n"
   ]
  },
  {
   "cell_type": "code",
   "execution_count": 16,
   "metadata": {},
   "outputs": [],
   "source": [
    "#Change column names in TAFE survey to match the ones in DETE survey\n",
    "tafe_survey_updated = tafe_survey_updated.rename(columns={'Record ID':'id',\n",
    "                                                'CESSATION YEAR':'cease_date',\n",
    "                                                'Reason for ceasing employment':'separationtype',\n",
    "                                                'Gender. What is your Gender?':'gender',\n",
    "                                                 'CurrentAge. Current Age':'age',\n",
    "                                                 'Employment Type. Employment Type':'employment_status',\n",
    "                                                 'Classification. Classification':'position',\n",
    "                                                 'LengthofServiceOverall. Overall Length of Service at Institute (in years)':'institute_service',\n",
    "                                                 'LengthofServiceCurrent. Length of Service at current workplace (in years)':'role_service'\n",
    "                                                         })"
   ]
  },
  {
   "cell_type": "code",
   "execution_count": 17,
   "metadata": {},
   "outputs": [
    {
     "name": "stdout",
     "output_type": "stream",
     "text": [
      "   id                    separationtype cease_date  dete_start_date  \\\n",
      "0   1             Ill Health Retirement    08/2012           1984.0   \n",
      "1   2  Voluntary Early Retirement (VER)    08/2012              NaN   \n",
      "2   3  Voluntary Early Retirement (VER)    05/2012           2011.0   \n",
      "3   4         Resignation-Other reasons    05/2012           2005.0   \n",
      "4   5                    Age Retirement    05/2012           1970.0   \n",
      "\n",
      "   role_start_date                                      position  \\\n",
      "0           2004.0                                Public Servant   \n",
      "1              NaN                                Public Servant   \n",
      "2           2011.0                               Schools Officer   \n",
      "3           2006.0                                       Teacher   \n",
      "4           1989.0  Head of Curriculum/Head of Special Education   \n",
      "\n",
      "  classification              region                      business_unit  \\\n",
      "0        A01-A04      Central Office  Corporate Strategy and Peformance   \n",
      "1        AO5-AO7      Central Office  Corporate Strategy and Peformance   \n",
      "2            NaN      Central Office               Education Queensland   \n",
      "3        Primary  Central Queensland                                NaN   \n",
      "4            NaN          South East                                NaN   \n",
      "\n",
      "     employment_status  ...  work_life_balance  workload  none_of_the_above  \\\n",
      "0  Permanent Full-time  ...              False     False               True   \n",
      "1  Permanent Full-time  ...              False     False              False   \n",
      "2  Permanent Full-time  ...              False     False               True   \n",
      "3  Permanent Full-time  ...              False     False              False   \n",
      "4  Permanent Full-time  ...               True     False              False   \n",
      "\n",
      "   gender          age  aboriginal  torres_strait  south_sea  disability  nesb  \n",
      "0    Male        56-60         NaN            NaN        NaN         NaN   Yes  \n",
      "1    Male        56-60         NaN            NaN        NaN         NaN   NaN  \n",
      "2    Male  61 or older         NaN            NaN        NaN         NaN   NaN  \n",
      "3  Female        36-40         NaN            NaN        NaN         NaN   NaN  \n",
      "4  Female  61 or older         NaN            NaN        NaN         NaN   NaN  \n",
      "\n",
      "[5 rows x 35 columns]\n"
     ]
    }
   ],
   "source": [
    "#Making sure every change looks good\n",
    "print(dete_survey_updated.head(5))\n"
   ]
  },
  {
   "cell_type": "code",
   "execution_count": 18,
   "metadata": {},
   "outputs": [
    {
     "name": "stdout",
     "output_type": "stream",
     "text": [
      "             id                              Institute  \\\n",
      "0  6.341330e+17  Southern Queensland Institute of TAFE   \n",
      "1  6.341337e+17            Mount Isa Institute of TAFE   \n",
      "2  6.341388e+17            Mount Isa Institute of TAFE   \n",
      "3  6.341399e+17            Mount Isa Institute of TAFE   \n",
      "4  6.341466e+17  Southern Queensland Institute of TAFE   \n",
      "\n",
      "                   WorkArea  cease_date    separationtype  \\\n",
      "0  Non-Delivery (corporate)      2010.0  Contract Expired   \n",
      "1  Non-Delivery (corporate)      2010.0        Retirement   \n",
      "2       Delivery (teaching)      2010.0        Retirement   \n",
      "3  Non-Delivery (corporate)      2010.0       Resignation   \n",
      "4       Delivery (teaching)      2010.0       Resignation   \n",
      "\n",
      "  Contributing Factors. Career Move - Public Sector   \\\n",
      "0                                                NaN   \n",
      "1                                                  -   \n",
      "2                                                  -   \n",
      "3                                                  -   \n",
      "4                                                  -   \n",
      "\n",
      "  Contributing Factors. Career Move - Private Sector   \\\n",
      "0                                                NaN    \n",
      "1                                                  -    \n",
      "2                                                  -    \n",
      "3                                                  -    \n",
      "4                       Career Move - Private Sector    \n",
      "\n",
      "  Contributing Factors. Career Move - Self-employment  \\\n",
      "0                                                NaN    \n",
      "1                                                  -    \n",
      "2                                                  -    \n",
      "3                                                  -    \n",
      "4                                                  -    \n",
      "\n",
      "  Contributing Factors. Ill Health Contributing Factors. Maternity/Family  \\\n",
      "0                              NaN                                    NaN   \n",
      "1                                -                                      -   \n",
      "2                                -                                      -   \n",
      "3                                -                                      -   \n",
      "4                                -                                      -   \n",
      "\n",
      "   ... Contributing Factors. Study Contributing Factors. Travel  \\\n",
      "0  ...                         NaN                          NaN   \n",
      "1  ...                           -                       Travel   \n",
      "2  ...                           -                            -   \n",
      "3  ...                           -                       Travel   \n",
      "4  ...                           -                            -   \n",
      "\n",
      "  Contributing Factors. Other Contributing Factors. NONE  gender     age  \\\n",
      "0                         NaN                        NaN  Female  26  30   \n",
      "1                           -                          -     NaN     NaN   \n",
      "2                           -                       NONE     NaN     NaN   \n",
      "3                           -                          -     NaN     NaN   \n",
      "4                           -                          -    Male  41  45   \n",
      "\n",
      "     employment_status                 position institute_service role_service  \n",
      "0  Temporary Full-time      Administration (AO)               1-2          1-2  \n",
      "1                  NaN                      NaN               NaN          NaN  \n",
      "2                  NaN                      NaN               NaN          NaN  \n",
      "3                  NaN                      NaN               NaN          NaN  \n",
      "4  Permanent Full-time  Teacher (including LVT)               3-4          3-4  \n",
      "\n",
      "[5 rows x 23 columns]\n"
     ]
    }
   ],
   "source": [
    "#Making sure every change looks good\n",
    "print(tafe_survey_updated.head(5))"
   ]
  },
  {
   "cell_type": "markdown",
   "metadata": {},
   "source": [
    "# Filter data\n",
    "\n",
    "## Select only employees thet resigned\n",
    "We will continue to remove more data that we dont need. \n",
    "For this specific project, we will only analyze those employees that resigned, so we will only consider the 'Resignation' values in separation type."
   ]
  },
  {
   "cell_type": "code",
   "execution_count": 19,
   "metadata": {},
   "outputs": [
    {
     "name": "stdout",
     "output_type": "stream",
     "text": [
      "Age Retirement                          285\n",
      "Resignation-Other reasons               150\n",
      "Resignation-Other employer               91\n",
      "Resignation-Move overseas/interstate     70\n",
      "Voluntary Early Retirement (VER)         67\n",
      "Ill Health Retirement                    61\n",
      "Other                                    49\n",
      "Contract Expired                         34\n",
      "Termination                              15\n",
      "Name: separationtype, dtype: int64\n",
      "Resignation                 340\n",
      "Contract Expired            127\n",
      "Retrenchment/ Redundancy    104\n",
      "Retirement                   82\n",
      "Transfer                     25\n",
      "Termination                  23\n",
      "Name: separationtype, dtype: int64\n"
     ]
    }
   ],
   "source": [
    "print(dete_survey_updated['separationtype'].value_counts())\n",
    "print(tafe_survey_updated['separationtype'].value_counts())"
   ]
  },
  {
   "cell_type": "code",
   "execution_count": 20,
   "metadata": {},
   "outputs": [],
   "source": [
    "#Create a copy of the dataset and select only the rows of the employees that resigned\n",
    "dete_resignations = dete_survey_updated.copy()\n",
    "dete_resignations = dete_resignations[(dete_resignations['separationtype'] == 'Resignation-Other reasons') \n",
    "                                      | (dete_resignations['separationtype'] == 'Resignation-Other employer')\n",
    "                                      | (dete_resignations['separationtype'] == 'Resignation-Move overseas/interstate')\n",
    "                                     ] "
   ]
  },
  {
   "cell_type": "code",
   "execution_count": 21,
   "metadata": {},
   "outputs": [],
   "source": [
    "#Create a copy of the dataset and select only the rows of the employees that resigned\n",
    "tafe_resignations = tafe_survey_updated.copy()\n",
    "tafe_resignations = tafe_resignations[tafe_resignations['separationtype'] == 'Resignation']"
   ]
  },
  {
   "cell_type": "markdown",
   "metadata": {},
   "source": [
    "## Check cease dates of DETE employee resignations\n",
    "\n",
    "Since we need specific time periods of working employees, we will analyze the dates start and cease date from DETE survey to see if any of them have any logical inconsistencies and then clean them as numbers that can be used to calculate years of service\n"
   ]
  },
  {
   "cell_type": "code",
   "execution_count": 22,
   "metadata": {},
   "outputs": [
    {
     "name": "stdout",
     "output_type": "stream",
     "text": [
      "2012       126\n",
      "2013        74\n",
      "01/2014     22\n",
      "12/2013     17\n",
      "06/2013     14\n",
      "09/2013     11\n",
      "11/2013      9\n",
      "07/2013      9\n",
      "10/2013      6\n",
      "08/2013      4\n",
      "05/2012      2\n",
      "05/2013      2\n",
      "07/2012      1\n",
      "07/2006      1\n",
      "2010         1\n",
      "09/2010      1\n",
      "Name: cease_date, dtype: int64\n"
     ]
    }
   ],
   "source": [
    "print(dete_resignations['cease_date'].value_counts())"
   ]
  },
  {
   "cell_type": "code",
   "execution_count": 23,
   "metadata": {
    "scrolled": true
   },
   "outputs": [
    {
     "name": "stdout",
     "output_type": "stream",
     "text": [
      "3      2012.0\n",
      "5      2012.0\n",
      "8      2012.0\n",
      "9      2012.0\n",
      "11     2012.0\n",
      "        ...  \n",
      "808    2013.0\n",
      "815    2014.0\n",
      "816    2014.0\n",
      "819    2014.0\n",
      "821    2013.0\n",
      "Name: cease_date, Length: 311, dtype: float64\n"
     ]
    }
   ],
   "source": [
    "# Convert to strings for extracting years\n",
    "years = dete_resignations['cease_date'].astype(str).str.extract(r\"(?P<years>[1-2][0-9][0-9][0-9])\")\n",
    "dete_resignations['cease_date'] = years.astype(float)\n",
    "print(dete_resignations['cease_date'])"
   ]
  },
  {
   "cell_type": "code",
   "execution_count": 24,
   "metadata": {
    "scrolled": true
   },
   "outputs": [
    {
     "name": "stdout",
     "output_type": "stream",
     "text": [
      "2013.0    146\n",
      "2012.0    129\n",
      "2014.0     22\n",
      "2010.0      2\n",
      "2006.0      1\n",
      "Name: cease_date, dtype: int64\n",
      "1963.0     1\n",
      "1971.0     1\n",
      "1972.0     1\n",
      "1973.0     1\n",
      "1974.0     2\n",
      "1975.0     1\n",
      "1976.0     2\n",
      "1977.0     1\n",
      "1980.0     5\n",
      "1982.0     1\n",
      "1983.0     2\n",
      "1984.0     1\n",
      "1985.0     3\n",
      "1986.0     3\n",
      "1987.0     1\n",
      "1988.0     4\n",
      "1989.0     4\n",
      "1990.0     5\n",
      "1991.0     4\n",
      "1992.0     6\n",
      "1993.0     5\n",
      "1994.0     6\n",
      "1995.0     4\n",
      "1996.0     6\n",
      "1997.0     5\n",
      "1998.0     6\n",
      "1999.0     8\n",
      "2000.0     9\n",
      "2001.0     3\n",
      "2002.0     6\n",
      "2003.0     6\n",
      "2004.0    14\n",
      "2005.0    15\n",
      "2006.0    13\n",
      "2007.0    21\n",
      "2008.0    22\n",
      "2009.0    13\n",
      "2010.0    17\n",
      "2011.0    24\n",
      "2012.0    21\n",
      "2013.0    10\n",
      "Name: dete_start_date, dtype: int64\n"
     ]
    }
   ],
   "source": [
    "#Checking the values from DETE resignations\n",
    "print(dete_resignations['cease_date'].value_counts())\n",
    "print(dete_resignations['dete_start_date'].value_counts().sort_index())"
   ]
  },
  {
   "cell_type": "code",
   "execution_count": 25,
   "metadata": {},
   "outputs": [
    {
     "name": "stdout",
     "output_type": "stream",
     "text": [
      "2011.0    116\n",
      "2012.0     94\n",
      "2010.0     68\n",
      "2013.0     55\n",
      "2009.0      2\n",
      "Name: cease_date, dtype: int64\n"
     ]
    }
   ],
   "source": [
    "#Checking the values from TAFE resignations\n",
    "print(tafe_resignations['cease_date'].value_counts())\n"
   ]
  },
  {
   "cell_type": "markdown",
   "metadata": {},
   "source": [
    "## Create new column for years of service\n",
    "There doesnt seem to be any inconsistencies with the data, so we proceed to create a new column for years of service in the DETE survey. In this column we will calculate the years of service from the start and end date of their service.\n",
    "\n"
   ]
  },
  {
   "cell_type": "code",
   "execution_count": 26,
   "metadata": {
    "scrolled": true
   },
   "outputs": [
    {
     "data": {
      "text/plain": [
       "True     273\n",
       "False     38\n",
       "Name: institute_service, dtype: int64"
      ]
     },
     "execution_count": 26,
     "metadata": {},
     "output_type": "execute_result"
    }
   ],
   "source": [
    "# New column with years of service\n",
    "dete_resignations['institute_service'] = dete_resignations['cease_date'] - dete_resignations['dete_start_date']\n",
    "dete_resignations['institute_service'].notnull().value_counts()"
   ]
  },
  {
   "cell_type": "markdown",
   "metadata": {},
   "source": [
    "##  Identify Dissatisfied Employees\n",
    "\n",
    "Now we'll identify any employees who resigned because some kind of dissatisfaction. \n",
    "\n",
    "Several columns in the DETE SURVEY have boolean values which reveal some kind of dissatisfaction. If the employee marked any of these as true, it will indicate a dissatisfaction with the job so so we will assign true to a new column called 'dissatisfaction'.\n",
    "\n"
   ]
  },
  {
   "cell_type": "code",
   "execution_count": 27,
   "metadata": {
    "scrolled": true
   },
   "outputs": [],
   "source": [
    "# Identify any True vales in each column of DETE survey to assign boolean in new column\n",
    "dete_resignations['dissatisfied'] = dete_resignations[['dissatisfaction_with_the_department',\n",
    "                                                      'physical_work_environment',\n",
    "                                                      'lack_of_recognition',\n",
    "                                                      'lack_of_job_security',\n",
    "                                                      'work_location',\n",
    "                                                      'employment_conditions',\n",
    "                                                      'work_life_balance',\n",
    "                                                      'workload']].any(1, skipna=False)\n",
    "\n"
   ]
  },
  {
   "cell_type": "code",
   "execution_count": 28,
   "metadata": {},
   "outputs": [
    {
     "name": "stdout",
     "output_type": "stream",
     "text": [
      "False    169\n",
      "True     142\n",
      "Name: dissatisfied, dtype: int64\n"
     ]
    }
   ],
   "source": [
    "#Copy df to avoid errors and analize results\n",
    "dete_resignations_up = dete_resignations.copy()\n",
    "print(dete_resignations_up['dissatisfied'].value_counts())"
   ]
  },
  {
   "cell_type": "markdown",
   "metadata": {},
   "source": [
    "### TEFE survey \n",
    "There are two columns in tafe_survey that give us information about dissatisfaction. We need to create a new column that states if any of these columns state that there was a dissatisfaction.\n",
    "- Contributing Factors. Dissatisfaction\n",
    "- Contributing Factors. Job Dissatisfaction"
   ]
  },
  {
   "cell_type": "code",
   "execution_count": 29,
   "metadata": {
    "scrolled": false
   },
   "outputs": [
    {
     "name": "stdout",
     "output_type": "stream",
     "text": [
      "-                                         277\n",
      "Contributing Factors. Dissatisfaction      55\n",
      "Name: Contributing Factors. Dissatisfaction, dtype: int64\n",
      "-                      270\n",
      "Job Dissatisfaction     62\n",
      "Name: Contributing Factors. Job Dissatisfaction, dtype: int64\n"
     ]
    }
   ],
   "source": [
    "# Analize the values of these columns\n",
    "print(tafe_resignations['Contributing Factors. Dissatisfaction'].value_counts())\n",
    "print(tafe_resignations['Contributing Factors. Job Dissatisfaction'].value_counts())"
   ]
  },
  {
   "cell_type": "markdown",
   "metadata": {},
   "source": [
    "The \"-\" values indicate a false, while the same name of the column indicates true. We need to change this to boolean values that we can operate with."
   ]
  },
  {
   "cell_type": "code",
   "execution_count": 30,
   "metadata": {},
   "outputs": [],
   "source": [
    "def update_vals(val):\n",
    "    \n",
    "    if val == '-':\n",
    "        return False\n",
    "    elif pd.isnull(val):\n",
    "        return np.NaN   \n",
    "    else:\n",
    "        return True\n",
    "\n"
   ]
  },
  {
   "cell_type": "code",
   "execution_count": 31,
   "metadata": {
    "scrolled": true
   },
   "outputs": [
    {
     "name": "stdout",
     "output_type": "stream",
     "text": [
      "False    277\n",
      "True      55\n",
      "Name: Contributing Factors. Dissatisfaction, dtype: int64\n",
      "False    270\n",
      "True      62\n",
      "Name: Contributing Factors. Job Dissatisfaction, dtype: int64\n"
     ]
    }
   ],
   "source": [
    "#Apply the function to each column from TAFE survey to obtain boolean values\n",
    "tafe_resignations['Contributing Factors. Dissatisfaction'] = tafe_resignations['Contributing Factors. Dissatisfaction'].apply(func=update_vals)\n",
    "tafe_resignations['Contributing Factors. Job Dissatisfaction'] = tafe_resignations['Contributing Factors. Job Dissatisfaction'].apply(func=update_vals)\n",
    "\n",
    "# Analize the values of these columns\n",
    "print(tafe_resignations['Contributing Factors. Dissatisfaction'].value_counts())\n",
    "print(tafe_resignations['Contributing Factors. Job Dissatisfaction'].value_counts())"
   ]
  },
  {
   "cell_type": "code",
   "execution_count": 32,
   "metadata": {},
   "outputs": [
    {
     "name": "stdout",
     "output_type": "stream",
     "text": [
      "False    241\n",
      "True      91\n",
      "Name: dissatisfied, dtype: int64\n"
     ]
    }
   ],
   "source": [
    "#Apply \"any\" method to identify any True value to define the new column dissatisfied\n",
    "tafe_resignations['dissatisfied'] = tafe_resignations[['Contributing Factors. Dissatisfaction', 'Contributing Factors. Job Dissatisfaction']].any(1, skipna=False)\n",
    "tafe_resignations_up = tafe_resignations.copy()\n",
    "print(tafe_resignations_up['dissatisfied'].value_counts())\n"
   ]
  },
  {
   "cell_type": "markdown",
   "metadata": {},
   "source": [
    "There is a simpler alternative to do this:\n",
    "\n",
    "tafe_resignations['dissatisfied'] = tafe_resignations[['Contributing Factors. Dissatisfaction', 'Contributing Factors. Job Dissatisfaction']].applymap(update_vals).any(1, skipna=False)\n",
    "tafe_resignations_up = tafe_resignations.copy()"
   ]
  },
  {
   "cell_type": "markdown",
   "metadata": {},
   "source": [
    "# Combine data from both surveys\n",
    "\n",
    "Now that we have cleaned both surveys we can proceed to combine them and analize the data."
   ]
  },
  {
   "cell_type": "code",
   "execution_count": 33,
   "metadata": {},
   "outputs": [],
   "source": [
    "# Add new columns with the name of the survey in every row to keep track of the source\n",
    "dete_resignations_up['institute'] = 'DETE'\n",
    "tafe_resignations_up['institute'] = 'TAFE'\n"
   ]
  },
  {
   "cell_type": "code",
   "execution_count": 34,
   "metadata": {
    "scrolled": true
   },
   "outputs": [
    {
     "name": "stdout",
     "output_type": "stream",
     "text": [
      "torres_strait                                            0\n",
      "south_sea                                                3\n",
      "aboriginal                                               7\n",
      "disability                                               8\n",
      "nesb                                                     9\n",
      "business_unit                                           32\n",
      "classification                                         161\n",
      "region                                                 265\n",
      "role_start_date                                        271\n",
      "dete_start_date                                        283\n",
      "role_service                                           290\n",
      "none_of_the_above                                      311\n",
      "work_life_balance                                      311\n",
      "traumatic_incident                                     311\n",
      "ill_health                                             311\n",
      "study/travel                                           311\n",
      "relocation                                             311\n",
      "maternity/family                                       311\n",
      "employment_conditions                                  311\n",
      "workload                                               311\n",
      "lack_of_job_security                                   311\n",
      "career_move_to_public_sector                           311\n",
      "career_move_to_private_sector                          311\n",
      "interpersonal_conflicts                                311\n",
      "work_location                                          311\n",
      "dissatisfaction_with_the_department                    311\n",
      "physical_work_environment                              311\n",
      "lack_of_recognition                                    311\n",
      "job_dissatisfaction                                    311\n",
      "Contributing Factors. Job Dissatisfaction              332\n",
      "Contributing Factors. Travel                           332\n",
      "Contributing Factors. Maternity/Family                 332\n",
      "Contributing Factors. Ill Health                       332\n",
      "Contributing Factors. Career Move - Self-employment    332\n",
      "Contributing Factors. Career Move - Private Sector     332\n",
      "Contributing Factors. Career Move - Public Sector      332\n",
      "Contributing Factors. Dissatisfaction                  332\n",
      "Contributing Factors. Other                            332\n",
      "Contributing Factors. Interpersonal Conflict           332\n",
      "Contributing Factors. NONE                             332\n",
      "Contributing Factors. Study                            332\n",
      "Institute                                              340\n",
      "WorkArea                                               340\n",
      "institute_service                                      563\n",
      "gender                                                 592\n",
      "age                                                    596\n",
      "employment_status                                      597\n",
      "position                                               598\n",
      "cease_date                                             635\n",
      "dissatisfied                                           643\n",
      "separationtype                                         651\n",
      "institute                                              651\n",
      "id                                                     651\n",
      "dtype: int64\n"
     ]
    }
   ],
   "source": [
    "combined = pd.concat([dete_resignations_up, tafe_resignations_up])\n",
    "print(combined.notnull().sum().sort_values())"
   ]
  },
  {
   "cell_type": "markdown",
   "metadata": {},
   "source": [
    "Since both surveys have around 300 rows, we can easily recognize at a glance that the columns that have enough values from both surveys have around 600 values. Because of this, we can drop the other columns that have significantly less data. "
   ]
  },
  {
   "cell_type": "code",
   "execution_count": 35,
   "metadata": {},
   "outputs": [],
   "source": [
    "# We drop all columns that have less than 500 non null values\n",
    "combined_updated = combined.dropna(axis=1, thresh=500).copy()"
   ]
  },
  {
   "cell_type": "code",
   "execution_count": 36,
   "metadata": {},
   "outputs": [
    {
     "data": {
      "text/plain": [
       "Index(['id', 'separationtype', 'cease_date', 'position', 'employment_status',\n",
       "       'gender', 'age', 'institute_service', 'dissatisfied', 'institute'],\n",
       "      dtype='object')"
      ]
     },
     "execution_count": 36,
     "metadata": {},
     "output_type": "execute_result"
    }
   ],
   "source": [
    "#Final columns with enough values for analysis\n",
    "combined_updated.columns"
   ]
  },
  {
   "cell_type": "markdown",
   "metadata": {},
   "source": [
    "## Clean the service column\n",
    "\n",
    "We still have a lot of different values that indicate the years of service and we need to clean them for further analysis. "
   ]
  },
  {
   "cell_type": "code",
   "execution_count": 37,
   "metadata": {},
   "outputs": [
    {
     "data": {
      "text/plain": [
       "nan                   88\n",
       "Less than 1 year      73\n",
       "1-2                   64\n",
       "3-4                   63\n",
       "5-6                   33\n",
       "11-20                 26\n",
       "5.0                   23\n",
       "1.0                   22\n",
       "7-10                  21\n",
       "3.0                   20\n",
       "0.0                   20\n",
       "6.0                   17\n",
       "4.0                   16\n",
       "2.0                   14\n",
       "9.0                   14\n",
       "7.0                   13\n",
       "More than 20 years    10\n",
       "13.0                   8\n",
       "8.0                    8\n",
       "20.0                   7\n",
       "15.0                   7\n",
       "17.0                   6\n",
       "10.0                   6\n",
       "14.0                   6\n",
       "12.0                   6\n",
       "22.0                   6\n",
       "16.0                   5\n",
       "18.0                   5\n",
       "23.0                   4\n",
       "11.0                   4\n",
       "24.0                   4\n",
       "32.0                   3\n",
       "19.0                   3\n",
       "21.0                   3\n",
       "39.0                   3\n",
       "26.0                   2\n",
       "25.0                   2\n",
       "28.0                   2\n",
       "36.0                   2\n",
       "30.0                   2\n",
       "31.0                   1\n",
       "38.0                   1\n",
       "34.0                   1\n",
       "35.0                   1\n",
       "27.0                   1\n",
       "33.0                   1\n",
       "49.0                   1\n",
       "42.0                   1\n",
       "41.0                   1\n",
       "29.0                   1\n",
       "Name: institute_service, dtype: int64"
      ]
     },
     "execution_count": 37,
     "metadata": {},
     "output_type": "execute_result"
    }
   ],
   "source": [
    "combined_updated['institute_service'] = combined_updated['institute_service'].astype('str')\n",
    "combined_updated['institute_service'].value_counts()"
   ]
  },
  {
   "cell_type": "code",
   "execution_count": 39,
   "metadata": {},
   "outputs": [
    {
     "data": {
      "text/plain": [
       "1.0     159\n",
       "3.0      83\n",
       "5.0      56\n",
       "7.0      34\n",
       "11.0     30\n",
       "0.0      20\n",
       "20.0     17\n",
       "6.0      17\n",
       "4.0      16\n",
       "9.0      14\n",
       "2.0      14\n",
       "13.0      8\n",
       "8.0       8\n",
       "15.0      7\n",
       "17.0      6\n",
       "10.0      6\n",
       "12.0      6\n",
       "14.0      6\n",
       "22.0      6\n",
       "16.0      5\n",
       "18.0      5\n",
       "24.0      4\n",
       "23.0      4\n",
       "39.0      3\n",
       "19.0      3\n",
       "21.0      3\n",
       "32.0      3\n",
       "28.0      2\n",
       "36.0      2\n",
       "25.0      2\n",
       "30.0      2\n",
       "26.0      2\n",
       "29.0      1\n",
       "38.0      1\n",
       "42.0      1\n",
       "27.0      1\n",
       "41.0      1\n",
       "35.0      1\n",
       "49.0      1\n",
       "34.0      1\n",
       "33.0      1\n",
       "31.0      1\n",
       "Name: institute_service, dtype: int64"
      ]
     },
     "execution_count": 39,
     "metadata": {},
     "output_type": "execute_result"
    }
   ],
   "source": [
    "#Extract from string values\n",
    "strings_change = combined_updated['institute_service'].str\n",
    "\n",
    "combined_updated['institute_service'] = combined_updated['institute_service'].str.extract(r'(\\d+)')\n",
    "combined_updated['institute_service'] = combined_updated['institute_service'].astype(float)\n",
    "combined_updated['institute_service'].value_counts()"
   ]
  },
  {
   "cell_type": "markdown",
   "metadata": {},
   "source": [
    "We extract the words from the values. For those values that indicate a range of years we can keep just one of the years that state the range because we will reclassify them into another range that includes both values.\n",
    "\n",
    "The new ranges are as follows: \n",
    "- New: Less than 3 years at a company\n",
    "- Experienced: 3-6 years at a company\n",
    "- Established: 7-10 years at a company\n",
    "- Veteran: 11 or more years at a company\n"
   ]
  },
  {
   "cell_type": "code",
   "execution_count": 40,
   "metadata": {},
   "outputs": [],
   "source": [
    "# New function to recalssify years of service according to  year range\n",
    "def career(yrs):\n",
    "    if (yrs < 3):\n",
    "        return 'new'\n",
    "    elif (yrs >= 3) & (yrs < 7):\n",
    "        return 'experienced'\n",
    "    elif (yrs >= 7) & (yrs < 11):\n",
    "        return 'established'\n",
    "    elif (yrs >= 11):\n",
    "        return 'veteran'\n",
    "    elif pd.isnull(yrs):\n",
    "        return np.NaN "
   ]
  },
  {
   "cell_type": "code",
   "execution_count": 41,
   "metadata": {},
   "outputs": [
    {
     "name": "stdout",
     "output_type": "stream",
     "text": [
      "new            193\n",
      "experienced    172\n",
      "veteran        136\n",
      "established     62\n",
      "Name: service_cat, dtype: int64\n"
     ]
    }
   ],
   "source": [
    "combined_updated['service_cat'] = combined_updated['institute_service'].apply(career)\n",
    "print(combined_updated['service_cat'].value_counts())"
   ]
  },
  {
   "cell_type": "markdown",
   "metadata": {},
   "source": [
    "# Initial Analysis\n",
    "\n",
    "Now that we have cleaned our dataset and created a new combined dataset from both surveys, we can proceed to analyse the data and answer the initial questions of the project. "
   ]
  },
  {
   "cell_type": "code",
   "execution_count": 42,
   "metadata": {},
   "outputs": [
    {
     "data": {
      "text/plain": [
       "False    410\n",
       "True     233\n",
       "NaN        8\n",
       "Name: dissatisfied, dtype: int64"
      ]
     },
     "execution_count": 42,
     "metadata": {},
     "output_type": "execute_result"
    }
   ],
   "source": [
    "combined_updated['dissatisfied'].value_counts(dropna=False)"
   ]
  },
  {
   "cell_type": "code",
   "execution_count": 51,
   "metadata": {},
   "outputs": [
    {
     "name": "stdout",
     "output_type": "stream",
     "text": [
      "False    0.642089\n",
      "True     0.357911\n",
      "Name: dissatisfied, dtype: float64\n",
      "False    418\n",
      "True     233\n",
      "Name: dissatisfied, dtype: int64\n"
     ]
    }
   ],
   "source": [
    "# Fill the NaN values with the most recurrent value, in this case, False\n",
    "combined_updated['dissatisfied'] = combined_updated['dissatisfied'].fillna(False)\n",
    "print(combined_updated['dissatisfied'].value_counts(dropna=False, normalize=True))\n",
    "print(combined_updated['dissatisfied'].value_counts(dropna=False))"
   ]
  },
  {
   "cell_type": "markdown",
   "metadata": {},
   "source": [
    "From all the employees that resigned, 35% of them resigned because of some kind of dissatisfaction with the job. "
   ]
  },
  {
   "cell_type": "code",
   "execution_count": 52,
   "metadata": {
    "scrolled": true
   },
   "outputs": [
    {
     "name": "stdout",
     "output_type": "stream",
     "text": [
      "             dissatisfied\n",
      "service_cat              \n",
      "established      0.500000\n",
      "veteran          0.470588\n",
      "experienced      0.325581\n",
      "new              0.290155\n"
     ]
    }
   ],
   "source": [
    "#Create pivot table to show the mean between dissatisfaction and years of service\n",
    "piv = pd.pivot_table(data=combined_updated, values='dissatisfied', index='service_cat')\n",
    "print(piv.sort_values(by='dissatisfied', ascending=False))"
   ]
  },
  {
   "cell_type": "code",
   "execution_count": 49,
   "metadata": {
    "scrolled": true
   },
   "outputs": [
    {
     "data": {
      "text/plain": [
       "<matplotlib.axes._subplots.AxesSubplot at 0x7fcd420ace50>"
      ]
     },
     "execution_count": 49,
     "metadata": {},
     "output_type": "execute_result"
    },
    {
     "data": {
      "image/png": "[encoded data removed]",
      "text/plain": [
       "<Figure size 600x400 with 1 Axes>"
      ]
     },
     "metadata": {},
     "output_type": "display_data"
    }
   ],
   "source": [
    "piv.plot(kind='bar')"
   ]
  },
  {
   "cell_type": "markdown",
   "metadata": {},
   "source": [
    "## Conclusions\n",
    "From all the employees that resigned, 35% of them resigned because of some kind of dissatisfaction with the job. \n",
    "\n",
    "From that 35% of the employees that resigned because of some kind of dissatisfaction, we can see that there are employees who have been working for  for long periods of time and short periods of time as well.\n",
    "\n",
    "It is more likely that a veteran or established employees will resign because of some sort of dissatisfaction.\n",
    "\n"
   ]
  },
  {
   "cell_type": "markdown",
   "metadata": {},
   "source": [
    "## Next steps\n",
    "\n",
    "Are employees who only worked for the institutes for a short period of time resigning due to some kind of dissatisfaction?\n",
    "\n",
    "What about employees who have been there longer?\n",
    "\n",
    "\n",
    "\n",
    "Are younger employees resigning due to some kind of dissatisfaction? What about older employees?"
   ]
  }
 ],
 "metadata": {
  "kernelspec": {
   "display_name": "Python 3 (ipykernel)",
   "language": "python",
   "name": "python3"
  },
  "language_info": {
   "codemirror_mode": {
    "name": "ipython",
    "version": 3
   },
   "file_extension": ".py",
   "mimetype": "text/x-python",
   "name": "python",
   "nbconvert_exporter": "python",
   "pygments_lexer": "ipython3",
   "version": "3.10.9"
  }
 },
 "nbformat": 4,
 "nbformat_minor": 2
}
